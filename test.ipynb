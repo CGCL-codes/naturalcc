{
 "cells": [
  {
   "cell_type": "code",
   "execution_count": null,
   "metadata": {},
   "outputs": [],
   "source": [
    "from ncc2.tasks.generation import GenerationTask"
   ]
  },
  {
   "cell_type": "code",
   "execution_count": null,
   "metadata": {},
   "outputs": [],
   "source": [
    "ckpt_path = '/data/lz/models/CodeLlama-7b'\n",
    "dataset_path = './dataset.json'\n",
    "output_path = './result.json'\n",
    "test_input = 'this is a test'\n",
    "\n",
    "# init task by task_name\n",
    "print('Initializing GenerationTask')\n",
    "task = GenerationTask(task_name=\"codellama_7b_code\",device=\"cuda:2\")\n",
    "# set tokenizer and load model weights\n",
    "print('Loading model weights from {}'.format(ckpt_path))\n",
    "task.from_pretrained(ckpt_path)\n",
    "# load dataset and run task\n",
    "# print('Processing dataset ({})'.format(dataset_path))\n",
    "# task.load_dataset(dataset_path)\n",
    "# task.run(output_path=output_path,batch_size=1,max_length=50,temperature=0.5,top_p=0.99)\n",
    "\n",
    "# # run test\n",
    "# print('Running generation test ()')\n",
    "# test_output = task.generate(test_input,max_length=30,top_k=20,top_p=0.99,penalty_weight=0.8)\n",
    "# print('Test input: {}\\nTest output: {}'.format(test_input,test_output))"
   ]
  },
  {
   "cell_type": "code",
   "execution_count": null,
   "metadata": {},
   "outputs": [],
   "source": [
    "task.generate(test_input,max_length=30,top_k=20,top_p=0.99,penalty_weight=0.8)"
   ]
  },
  {
   "cell_type": "code",
   "execution_count": null,
   "metadata": {},
   "outputs": [],
   "source": [
    "# 1. generation sample fix (add beam search,etc.)\n",
    "# 2. task register fix √\n",
    "# 3. hf model adapter\n",
    "# 4. code completion task"
   ]
  },
  {
   "cell_type": "code",
   "execution_count": null,
   "metadata": {},
   "outputs": [],
   "source": [
    "from ncc2.tasks.summarization import SummarizationTask\n",
    "ckpt_path = '/data/lz/models/CodeLlama-7b-hf'\n",
    "dataset_path = './dataset.json'\n",
    "output_path = './result.json'\n",
    "test_input = 'this is a test'"
   ]
  },
  {
   "cell_type": "code",
   "execution_count": null,
   "metadata": {},
   "outputs": [],
   "source": [
    "task = SummarizationTask(task_name=\"auto\",device=\"cuda:2\")\n",
    "task.from_pretrained(ckpt_path)"
   ]
  },
  {
   "cell_type": "code",
   "execution_count": null,
   "metadata": {},
   "outputs": [],
   "source": [
    "# task.summarize('def main(self',max_length=100)\n",
    "task.load_dataset('/data/lz/naturalcc2/examples/generation/dataset.json')\n",
    "task.run(output_path=output_path,batch_size=1,max_length=50,temperature=0.5,top_p=0.99)"
   ]
  }
 ],
 "metadata": {
  "kernelspec": {
   "display_name": "rkwv-runner",
   "language": "python",
   "name": "python3"
  },
  "language_info": {
   "codemirror_mode": {
    "name": "ipython",
    "version": 3
   },
   "file_extension": ".py",
   "mimetype": "text/x-python",
   "name": "python",
   "nbconvert_exporter": "python",
   "pygments_lexer": "ipython3",
   "version": "3.9.18"
  }
 },
 "nbformat": 4,
 "nbformat_minor": 2
}
