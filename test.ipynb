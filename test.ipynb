{
 "cells": [
  {
   "cell_type": "code",
   "execution_count": null,
   "metadata": {},
   "outputs": [],
   "source": [
    "from ncc2.tasks.generation import GenerationTask\n",
    "from ncc2.tasks.completion import CompletionTask\n",
    "\n",
    "ckpt_path = '/data/lz/models/CodeLlama-7b-Instruct'\n",
    "dataset_path = '/data/lz/naturalcc2/examples/generation/dataset.json'\n",
    "output_path = './result.json'\n",
    "test_input = 'this is a test'\n",
    "\n",
    "task = CompletionTask(task_name=\"llm\",device=\"cuda:6\")\n",
    "task.from_pretrained(ckpt_path)"
   ]
  },
  {
   "cell_type": "code",
   "execution_count": null,
   "metadata": {},
   "outputs": [],
   "source": [
    "task.load_dataset(dataset_path)\n",
    "task.run(output_path=output_path,batch_size=1,temperature=0.5,top_p=0.99)\n",
    "# test_output = task.generate(test_input,max_length=30,top_k=20,top_p=0.99,penalty_weight=0.8)"
   ]
  },
  {
   "cell_type": "code",
   "execution_count": null,
   "metadata": {},
   "outputs": [],
   "source": [
    "# 1. generation sample fix (add beam search,etc.) -\n",
    "# 2. task register fix √y\n",
    "# 3. hf model adapter √\n",
    "# 4. code completion task lz & hyf +\n",
    "# 5. evaluation tvc - \n",
    "# 6. readme.md lz - \n",
    "# 7. code summarization task +"
   ]
  },
  {
   "cell_type": "code",
   "execution_count": null,
   "metadata": {},
   "outputs": [],
   "source": [
    "from ncc2.tasks.summarization import SummarizationTask\n",
    "                                                                                                    \n",
    "ckpt_path = '/data/lz/models/codet5p-6b'\n",
    "dataset_path = '/data/lz/naturalcc2/examples/generation/dataset.json'\n",
    "output_path = './result.json'\n",
    "test_input = 'this is a test'\n",
    "\n",
    "task = SummarizationTask(task_name=\"seq2seq_hf\",device=\"cuda:6\")\n",
    "task.from_pretrained(ckpt_path)"
   ]
  },
  {
   "cell_type": "code",
   "execution_count": null,
   "metadata": {},
   "outputs": [],
   "source": [
    "task.load_dataset(dataset_path)\n",
    "task.run(output_path=output_path,batch_size=1,max_length=50,temperature=0.5,top_p=0.99)"
   ]
  },
  {
   "cell_type": "code",
   "execution_count": null,
   "metadata": {},
   "outputs": [],
   "source": [
    "task.generate_hf(\"\"\"explain the code: \"\"\",max_length=100,repetition_penalty=2.0)[0]"
   ]
  },
  {
   "cell_type": "code",
   "execution_count": null,
   "metadata": {},
   "outputs": [],
   "source": [
    "from ncc2.tasks.summarization import codet5_SummarizationTask\n",
    "ckpt_path = '\"/data/lz/models/CodeLlama-7b-Instruct\"'\n",
    "dataset_path = './dataset.json'\n",
    "output_path = './result.json'\n",
    "test_input = 'this is a test'"
   ]
  }
 ],
 "metadata": {
  "kernelspec": {
   "display_name": "rkwv-runner",
   "language": "python",
   "name": "python3"
  },
  "language_info": {
   "codemirror_mode": {
    "name": "ipython",
    "version": 3
   },
   "file_extension": ".py",
   "mimetype": "text/x-python",
   "name": "python",
   "nbconvert_exporter": "python",
   "pygments_lexer": "ipython3",
   "version": "3.9.18"
  }
 },
 "nbformat": 4,
 "nbformat_minor": 2
}
