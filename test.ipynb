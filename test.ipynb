{
 "cells": [
  {
   "cell_type": "code",
   "execution_count": 1,
   "metadata": {},
   "outputs": [
    {
     "name": "stderr",
     "output_type": "stream",
     "text": [
      "/data/aigc/miniconda3/envs/ncc/lib/python3.9/site-packages/tqdm/auto.py:21: TqdmWarning: IProgress not found. Please update jupyter and ipywidgets. See https://ipywidgets.readthedocs.io/en/stable/user_install.html\n",
      "  from .autonotebook import tqdm as notebook_tqdm\n",
      "100%|██████████| 1/1 [00:10<00:00, 10.67s/it]\n"
     ]
    }
   ],
   "source": [
    "from ncc2.tasks.generation import GenerationTask\n",
    "from ncc2.tasks.completion import CompletionTask\n",
    "\n",
    "ckpt_path = '/data/lz/models/CodeLlama-7b-Instruct'\n",
    "dataset_path = '/data/lz/naturalcc2/examples/generation/dataset.json'\n",
    "output_path = './result.json'\n",
    "test_input = 'this is a test'\n",
    "\n",
    "task = CompletionTask(task_name=\"llm\",device=\"cuda:6\")\n",
    "task.from_pretrained(ckpt_path)"
   ]
  },
  {
   "cell_type": "code",
   "execution_count": 2,
   "metadata": {},
   "outputs": [
    {
     "name": "stderr",
     "output_type": "stream",
     "text": [
      "  0%|          | 0/6 [00:00<?, ?it/s]"
     ]
    },
    {
     "name": "stdout",
     "output_type": "stream",
     "text": [
      "5\n"
     ]
    },
    {
     "name": "stderr",
     "output_type": "stream",
     "text": [
      " 50%|█████     | 3/6 [00:01<00:00,  3.50it/s]"
     ]
    },
    {
     "name": "stdout",
     "output_type": "stream",
     "text": [
      "7\n",
      "5\n",
      "7\n",
      "7\n"
     ]
    },
    {
     "name": "stderr",
     "output_type": "stream",
     "text": [
      "100%|██████████| 6/6 [00:01<00:00,  4.90it/s]"
     ]
    },
    {
     "name": "stdout",
     "output_type": "stream",
     "text": [
      "8\n"
     ]
    },
    {
     "name": "stderr",
     "output_type": "stream",
     "text": [
      "\n"
     ]
    }
   ],
   "source": [
    "task.load_dataset(dataset_path)\n",
    "task.run(output_path=output_path,batch_size=1,temperature=0.5,top_p=0.99)\n",
    "# test_output = task.generate(test_input,max_length=30,top_k=20,top_p=0.99,penalty_weight=0.8)"
   ]
  },
  {
   "cell_type": "code",
   "execution_count": null,
   "metadata": {},
   "outputs": [],
   "source": [
    "# 1. generation sample fix (add beam search,etc.) -\n",
    "# 2. task register fix √y\n",
    "# 3. hf model adapter √\n",
    "# 4. code completion task lz & hyf +\n",
    "# 5. evaluation tvc - \n",
    "# 6. readme.md lz - \n",
    "# 7. code summarization task +"
   ]
  },
  {
   "cell_type": "code",
   "execution_count": null,
   "metadata": {},
   "outputs": [],
   "source": [
    "from ncc2.tasks.summarization import SummarizationTask\n",
    "                                                                                                    \n",
    "ckpt_path = '/data/lz/models/codet5p-6b'\n",
    "dataset_path = '/data/lz/naturalcc2/examples/generation/dataset.json'\n",
    "output_path = './result.json'\n",
    "test_input = 'this is a test'\n",
    "\n",
    "task = SummarizationTask(task_name=\"seq2seq_hf\",device=\"cuda:6\")\n",
    "task.from_pretrained(ckpt_path)"
   ]
  },
  {
   "cell_type": "code",
   "execution_count": null,
   "metadata": {},
   "outputs": [],
   "source": [
    "task.load_dataset(dataset_path)\n",
    "task.run(output_path=output_path,batch_size=1,max_length=50,temperature=0.5,top_p=0.99)"
   ]
  },
  {
   "cell_type": "code",
   "execution_count": null,
   "metadata": {},
   "outputs": [],
   "source": [
    "task.generate_hf(\"\"\"explain the code: \"\"\",max_length=100,repetition_penalty=2.0)[0]"
   ]
  },
  {
   "cell_type": "code",
   "execution_count": null,
   "metadata": {},
   "outputs": [],
   "source": [
    "from ncc2.tasks.summarization import codet5_SummarizationTask\n",
    "ckpt_path = '\"/data/lz/models/CodeLlama-7b-Instruct\"'\n",
    "dataset_path = './dataset.json'\n",
    "output_path = './result.json'\n",
    "test_input = 'this is a test'"
   ]
  }
 ],
 "metadata": {
  "kernelspec": {
   "display_name": "rkwv-runner",
   "language": "python",
   "name": "python3"
  },
  "language_info": {
   "codemirror_mode": {
    "name": "ipython",
    "version": 3
   },
   "file_extension": ".py",
   "mimetype": "text/x-python",
   "name": "python",
   "nbconvert_exporter": "python",
   "pygments_lexer": "ipython3",
   "version": "3.9.18"
  }
 },
 "nbformat": 4,
 "nbformat_minor": 2
}
