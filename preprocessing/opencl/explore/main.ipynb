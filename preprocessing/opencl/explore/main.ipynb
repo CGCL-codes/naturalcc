{
 "cells": [
  {
   "cell_type": "markdown",
   "metadata": {},
   "source": [
    "# install Clgen 0.4.1\n",
    "\n",
    "**We recommend you to create a new virtualenv to install Clgen.**\n",
    "\n",
    "## step 1. install clang\n",
    "```\n",
    "sudo apt install clang\n",
    "sudo apt update\n",
    "```\n",
    "\n",
    "## step 2. build clgen\n",
    "```\n",
    "# if you have an NVIDIA GPU with CUDA 8.0 and cuDNN:\n",
    "(clgen)$ curl -s https://raw.githubusercontent.com/ChrisCummins/clgen/0.4.1/install-cuda.sh | bash\n",
    "# CPU only:\n",
    "(clgen)$ curl -s https://raw.githubusercontent.com/ChrisCummins/clgen/0.4.1/install-cpu.sh | bash\n",
    "```\n",
    "\n",
    "## step 3. install required libraries and install clgen\n",
    "```\n",
    "# install required libraries\n",
    "pip install -r requirement.txt\n",
    "# install clgen\n",
    "python setup.py install\n",
    "```"
   ]
  },
  {
   "cell_type": "markdown",
   "metadata": {},
   "source": [
    "# Source Rewriter"
   ]
  },
  {
   "cell_type": "code",
   "execution_count": 1,
   "metadata": {},
   "outputs": [
    {
     "name": "stdout",
     "output_type": "stream",
     "text": [
      "//#define Elements\n",
      "__kernel void memset_kernel(__global char * mem_d, short val, int number_bytes){\n",
      "    const int thread_id = get_global_id(0);\n",
      "    mem_d[thread_id] = val;\n",
      "}\n"
     ]
    }
   ],
   "source": [
    "code = \"\"\"//#define Elements\n",
    "__kernel void memset_kernel(__global char * mem_d, short val, int number_bytes){\n",
    "    const int thread_id = get_global_id(0);\n",
    "    mem_d[thread_id] = val;\n",
    "}\"\"\"\n",
    "print(code)"
   ]
  },
  {
   "cell_type": "code",
   "execution_count": 2,
   "metadata": {},
   "outputs": [
    {
     "name": "stdout",
     "output_type": "stream",
     "text": [
      "__kernel void A(__global char* a, short b, int c) {\n",
      "  const int d = get_global_id(0);\n",
      "  a[d] = b;\n",
      "}\n"
     ]
    }
   ],
   "source": [
    "from clgen._preprocess import preprocess\n",
    "\n",
    "rewritten = preprocess(code)\n",
    "print(rewritten)"
   ]
  },
  {
   "cell_type": "markdown",
   "metadata": {},
   "source": [
    "# Souce Encoder"
   ]
  },
  {
   "cell_type": "code",
   "execution_count": 3,
   "metadata": {},
   "outputs": [
    {
     "name": "stdout",
     "output_type": "stream",
     "text": [
      "GreedyAtomizer[27 tokens]\n"
     ]
    }
   ],
   "source": [
    "from clgen._atomizer import GreedyAtomizer\n",
    "from clgen._langs import Language\n",
    "\n",
    "lang = Language.from_str(\"opencl\")\n",
    "atomizer = GreedyAtomizer.from_text(lang, text=rewritten)\n",
    "print(atomizer)"
   ]
  },
  {
   "cell_type": "code",
   "execution_count": 4,
   "metadata": {},
   "outputs": [
    {
     "data": {
      "text/html": [
       "<div>\n",
       "<style scoped>\n",
       "    .dataframe tbody tr th:only-of-type {\n",
       "        vertical-align: middle;\n",
       "    }\n",
       "\n",
       "    .dataframe tbody tr th {\n",
       "        vertical-align: top;\n",
       "    }\n",
       "\n",
       "    .dataframe thead th {\n",
       "        text-align: right;\n",
       "    }\n",
       "</style>\n",
       "<table border=\"1\" class=\"dataframe\">\n",
       "  <thead>\n",
       "    <tr style=\"text-align: right;\">\n",
       "      <th></th>\n",
       "      <th>token</th>\n",
       "    </tr>\n",
       "  </thead>\n",
       "  <tbody>\n",
       "    <tr>\n",
       "      <th>0</th>\n",
       "      <td>'\\n'</td>\n",
       "    </tr>\n",
       "    <tr>\n",
       "      <th>1</th>\n",
       "      <td>'  '</td>\n",
       "    </tr>\n",
       "    <tr>\n",
       "      <th>2</th>\n",
       "      <td>' '</td>\n",
       "    </tr>\n",
       "    <tr>\n",
       "      <th>3</th>\n",
       "      <td>'('</td>\n",
       "    </tr>\n",
       "    <tr>\n",
       "      <th>4</th>\n",
       "      <td>')'</td>\n",
       "    </tr>\n",
       "    <tr>\n",
       "      <th>5</th>\n",
       "      <td>'*'</td>\n",
       "    </tr>\n",
       "    <tr>\n",
       "      <th>6</th>\n",
       "      <td>','</td>\n",
       "    </tr>\n",
       "    <tr>\n",
       "      <th>7</th>\n",
       "      <td>'0'</td>\n",
       "    </tr>\n",
       "    <tr>\n",
       "      <th>8</th>\n",
       "      <td>';'</td>\n",
       "    </tr>\n",
       "    <tr>\n",
       "      <th>9</th>\n",
       "      <td>'='</td>\n",
       "    </tr>\n",
       "    <tr>\n",
       "      <th>10</th>\n",
       "      <td>'A'</td>\n",
       "    </tr>\n",
       "    <tr>\n",
       "      <th>11</th>\n",
       "      <td>'['</td>\n",
       "    </tr>\n",
       "    <tr>\n",
       "      <th>12</th>\n",
       "      <td>']'</td>\n",
       "    </tr>\n",
       "    <tr>\n",
       "      <th>13</th>\n",
       "      <td>'__global'</td>\n",
       "    </tr>\n",
       "    <tr>\n",
       "      <th>14</th>\n",
       "      <td>'__kernel'</td>\n",
       "    </tr>\n",
       "    <tr>\n",
       "      <th>15</th>\n",
       "      <td>'a'</td>\n",
       "    </tr>\n",
       "    <tr>\n",
       "      <th>16</th>\n",
       "      <td>'b'</td>\n",
       "    </tr>\n",
       "    <tr>\n",
       "      <th>17</th>\n",
       "      <td>'c'</td>\n",
       "    </tr>\n",
       "    <tr>\n",
       "      <th>18</th>\n",
       "      <td>'char'</td>\n",
       "    </tr>\n",
       "    <tr>\n",
       "      <th>19</th>\n",
       "      <td>'const'</td>\n",
       "    </tr>\n",
       "    <tr>\n",
       "      <th>20</th>\n",
       "      <td>'d'</td>\n",
       "    </tr>\n",
       "    <tr>\n",
       "      <th>21</th>\n",
       "      <td>'get_global_id'</td>\n",
       "    </tr>\n",
       "    <tr>\n",
       "      <th>22</th>\n",
       "      <td>'int'</td>\n",
       "    </tr>\n",
       "    <tr>\n",
       "      <th>23</th>\n",
       "      <td>'short'</td>\n",
       "    </tr>\n",
       "    <tr>\n",
       "      <th>24</th>\n",
       "      <td>'void'</td>\n",
       "    </tr>\n",
       "    <tr>\n",
       "      <th>25</th>\n",
       "      <td>'{'</td>\n",
       "    </tr>\n",
       "    <tr>\n",
       "      <th>26</th>\n",
       "      <td>'}'</td>\n",
       "    </tr>\n",
       "  </tbody>\n",
       "</table>\n",
       "</div>"
      ],
      "text/plain": [
       "              token\n",
       "0              '\\n'\n",
       "1              '  '\n",
       "2               ' '\n",
       "3               '('\n",
       "4               ')'\n",
       "5               '*'\n",
       "6               ','\n",
       "7               '0'\n",
       "8               ';'\n",
       "9               '='\n",
       "10              'A'\n",
       "11              '['\n",
       "12              ']'\n",
       "13       '__global'\n",
       "14       '__kernel'\n",
       "15              'a'\n",
       "16              'b'\n",
       "17              'c'\n",
       "18           'char'\n",
       "19          'const'\n",
       "20              'd'\n",
       "21  'get_global_id'\n",
       "22            'int'\n",
       "23          'short'\n",
       "24           'void'\n",
       "25              '{'\n",
       "26              '}'"
      ]
     },
     "execution_count": 4,
     "metadata": {},
     "output_type": "execute_result"
    }
   ],
   "source": [
    "import pandas as pd\n",
    "\n",
    "pd.DataFrame(sorted([f\"'{k}'\" for k in atomizer.vocab]), columns=[\"token\"])"
   ]
  },
  {
   "cell_type": "code",
   "execution_count": 5,
   "metadata": {},
   "outputs": [
    {
     "name": "stdout",
     "output_type": "stream",
     "text": [
      "[14  1 24  1 10  3 13  1 18  5  1 15  6  1 23  1 16  6  1 22  1 17  4  1\n",
      " 25  0  2 19  1 22  1 20  1  9  1 21  3  7  4  8  0  2 15 11 20 12  1  9\n",
      "  1 16  8  0 26]\n"
     ]
    }
   ],
   "source": [
    "encoded = atomizer.atomize(rewritten)\n",
    "print(encoded)"
   ]
  },
  {
   "cell_type": "code",
   "execution_count": 6,
   "metadata": {},
   "outputs": [
    {
     "name": "stdout",
     "output_type": "stream",
     "text": [
      "<__kernel>< ><void>< ><A><(><__global>< ><char><*>< ><a><,>< ><short>< ><b><,>< ><int>< ><c><)>< ><{><\\n><  ><const>< ><int>< ><d>< ><=>< ><get_global_id><(><0><)><;><\\n><  ><a><[><d><]>< ><=>< ><b><;><\\n><}>"
     ]
    }
   ],
   "source": [
    "for i in encoded:\n",
    "    t = atomizer.deatomize([i])\n",
    "    if t == '\\n': t = '\\\\n'\n",
    "    print(f\"<{t}>\", end=\"\")"
   ]
  },
  {
   "cell_type": "markdown",
   "metadata": {},
   "source": [
    "# Padding"
   ]
  },
  {
   "cell_type": "code",
   "execution_count": 7,
   "metadata": {},
   "outputs": [
    {
     "name": "stderr",
     "output_type": "stream",
     "text": [
      "Using TensorFlow backend.\n"
     ]
    },
    {
     "data": {
      "text/plain": [
       "array([27, 27, 27, 27, 27, 27, 27, 27, 27, 27, 27, 27, 27, 27, 27, 27, 27,\n",
       "       27, 27, 27, 27, 27, 14,  1, 24,  1, 10,  3, 13,  1, 18,  5,  1, 15,\n",
       "        6,  1, 23,  1, 16,  6,  1, 22,  1, 17,  4,  1, 25,  0,  2, 19,  1,\n",
       "       22,  1, 20,  1,  9,  1, 21,  3,  7,  4,  8,  0,  2, 15, 11, 20, 12,\n",
       "        1,  9,  1, 16,  8,  0, 26], dtype=int32)"
      ]
     },
     "execution_count": 7,
     "metadata": {},
     "output_type": "execute_result"
    }
   ],
   "source": [
    "from keras.preprocessing.sequence import pad_sequences\n",
    "\n",
    "pad_val = atomizer.vocab_size\n",
    "pad_sequences([encoded], maxlen=len(encoded) + 22, value=pad_val)[0]"
   ]
  },
  {
   "cell_type": "markdown",
   "metadata": {},
   "source": [
    "# Build Vocabulary"
   ]
  },
  {
   "cell_type": "code",
   "execution_count": 8,
   "metadata": {},
   "outputs": [
    {
     "name": "stdout",
     "output_type": "stream",
     "text": [
      "lines of code: 45497\n"
     ]
    }
   ],
   "source": [
    "import pandas as pd\n",
    "\n",
    "srcs = '\\n'.join(pd.read_csv(\"/data/ncc_data/opencl/raw/amd.csv\")['src'].values)\n",
    "print(\"lines of code:\", len(srcs.split('\\n')))"
   ]
  },
  {
   "cell_type": "code",
   "execution_count": 9,
   "metadata": {},
   "outputs": [
    {
     "name": "stdout",
     "output_type": "stream",
     "text": [
      "derived vocabulary: GreedyAtomizer[128 tokens]\n"
     ]
    }
   ],
   "source": [
    "lang = Language.from_str(\"opencl\")\n",
    "derived_atomizer = GreedyAtomizer.from_text(lang, text=srcs)\n",
    "print(\"derived vocabulary:\", derived_atomizer)"
   ]
  },
  {
   "cell_type": "code",
   "execution_count": 10,
   "metadata": {},
   "outputs": [
    {
     "data": {
      "text/html": [
       "<div>\n",
       "<style scoped>\n",
       "    .dataframe tbody tr th:only-of-type {\n",
       "        vertical-align: middle;\n",
       "    }\n",
       "\n",
       "    .dataframe tbody tr th {\n",
       "        vertical-align: top;\n",
       "    }\n",
       "\n",
       "    .dataframe thead th {\n",
       "        text-align: right;\n",
       "    }\n",
       "</style>\n",
       "<table border=\"1\" class=\"dataframe\">\n",
       "  <thead>\n",
       "    <tr style=\"text-align: right;\">\n",
       "      <th></th>\n",
       "      <th>token</th>\n",
       "    </tr>\n",
       "  </thead>\n",
       "  <tbody>\n",
       "    <tr>\n",
       "      <th>0</th>\n",
       "      <td>'\\n'</td>\n",
       "    </tr>\n",
       "    <tr>\n",
       "      <th>1</th>\n",
       "      <td>'  '</td>\n",
       "    </tr>\n",
       "    <tr>\n",
       "      <th>2</th>\n",
       "      <td>' '</td>\n",
       "    </tr>\n",
       "    <tr>\n",
       "      <th>3</th>\n",
       "      <td>'!'</td>\n",
       "    </tr>\n",
       "    <tr>\n",
       "      <th>4</th>\n",
       "      <td>'%'</td>\n",
       "    </tr>\n",
       "    <tr>\n",
       "      <th>...</th>\n",
       "      <td>...</td>\n",
       "    </tr>\n",
       "    <tr>\n",
       "      <th>123</th>\n",
       "      <td>'y'</td>\n",
       "    </tr>\n",
       "    <tr>\n",
       "      <th>124</th>\n",
       "      <td>'z'</td>\n",
       "    </tr>\n",
       "    <tr>\n",
       "      <th>125</th>\n",
       "      <td>'{'</td>\n",
       "    </tr>\n",
       "    <tr>\n",
       "      <th>126</th>\n",
       "      <td>'|'</td>\n",
       "    </tr>\n",
       "    <tr>\n",
       "      <th>127</th>\n",
       "      <td>'}'</td>\n",
       "    </tr>\n",
       "  </tbody>\n",
       "</table>\n",
       "<p>128 rows × 1 columns</p>\n",
       "</div>"
      ],
      "text/plain": [
       "    token\n",
       "0    '\\n'\n",
       "1    '  '\n",
       "2     ' '\n",
       "3     '!'\n",
       "4     '%'\n",
       "..    ...\n",
       "123   'y'\n",
       "124   'z'\n",
       "125   '{'\n",
       "126   '|'\n",
       "127   '}'\n",
       "\n",
       "[128 rows x 1 columns]"
      ]
     },
     "execution_count": 10,
     "metadata": {},
     "output_type": "execute_result"
    }
   ],
   "source": [
    "pd.set_option('display.max_rows', 10)\n",
    "pd.DataFrame(sorted([f\"'{k}'\" for k in derived_atomizer.vocab]), columns=[\"token\"])"
   ]
  }
 ],
 "metadata": {
  "kernelspec": {
   "display_name": "Python 3",
   "language": "python",
   "name": "python3"
  },
  "language_info": {
   "codemirror_mode": {
    "name": "ipython",
    "version": 3
   },
   "file_extension": ".py",
   "mimetype": "text/x-python",
   "name": "python",
   "nbconvert_exporter": "python",
   "pygments_lexer": "ipython3",
   "version": "3.6.13"
  }
 },
 "nbformat": 4,
 "nbformat_minor": 1
}
