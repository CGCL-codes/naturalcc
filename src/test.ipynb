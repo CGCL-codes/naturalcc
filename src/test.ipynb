{
 "cells": [
  {
   "cell_type": "code",
   "execution_count": 1,
   "metadata": {},
   "outputs": [
    {
     "name": "stderr",
     "output_type": "stream",
     "text": [
      "/data/aigc/miniconda3/envs/ncc/lib/python3.9/site-packages/tqdm/auto.py:21: TqdmWarning: IProgress not found. Please update jupyter and ipywidgets. See https://ipywidgets.readthedocs.io/en/stable/user_install.html\n",
      "  from .autonotebook import tqdm as notebook_tqdm\n"
     ]
    }
   ],
   "source": [
    "import os\n",
    "from fairseq2.models.llama import LLaMABuilder,LLaMAConfig,LLaMATokenizer,LLaMAConfig,llama_archs\n",
    "from fairseq2.data import VocabularyInfo\n",
    "from transformers import AutoTokenizer,AutoConfig,AutoModelForCausalLM\n",
    "import torch\n",
    "import json\n",
    "from pathlib import Path\n",
    "from fairseq2.models.sequence import SequenceBatch\n",
    "from fairseq2.nn.padding import PaddingMask,pad_seqs,apply_padding_mask\n",
    "import torch.nn.functional as F\n",
    "import random\n",
    "from fairseq2.tasks.generation import GenerationTask,CodellamaGenerationTask"
   ]
  },
  {
   "cell_type": "code",
   "execution_count": 2,
   "metadata": {},
   "outputs": [],
   "source": [
    "task = CodellamaGenerationTask(llama_archs,'7b_code',LLaMABuilder,device=\"cuda:2\")\n",
    "task.load_state('/data/lz/models/CodeLlama-7b')\n",
    "tokenizer = LLaMATokenizer('/data/lz/models/CodeLlama-7b/tokenizer.model')\n",
    "task.set_tokenizer(tokenizer)"
   ]
  },
  {
   "cell_type": "code",
   "execution_count": 4,
   "metadata": {},
   "outputs": [],
   "source": [
    "task.load_dataset('/data/lz/ncc2/src/dataset.json')"
   ]
  },
  {
   "cell_type": "code",
   "execution_count": 5,
   "metadata": {},
   "outputs": [
    {
     "name": "stderr",
     "output_type": "stream",
     "text": [
      "100%|██████████| 6/6 [00:17<00:00,  2.96s/it]\n"
     ]
    }
   ],
   "source": [
    "task.run(output_path=\"/data/lz/ncc2/src/result.json\",batch_size=1,max_length=50,temperature=0.5)"
   ]
  }
 ],
 "metadata": {
  "kernelspec": {
   "display_name": "rkwv-runner",
   "language": "python",
   "name": "python3"
  },
  "language_info": {
   "codemirror_mode": {
    "name": "ipython",
    "version": 3
   },
   "file_extension": ".py",
   "mimetype": "text/x-python",
   "name": "python",
   "nbconvert_exporter": "python",
   "pygments_lexer": "ipython3",
   "version": "3.9.18"
  }
 },
 "nbformat": 4,
 "nbformat_minor": 2
}
