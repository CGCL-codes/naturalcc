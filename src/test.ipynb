{
 "cells": [
  {
   "cell_type": "code",
   "execution_count": 1,
   "metadata": {},
   "outputs": [
    {
     "name": "stderr",
     "output_type": "stream",
     "text": [
      "/data/aigc/miniconda3/envs/ncc/lib/python3.9/site-packages/tqdm/auto.py:21: TqdmWarning: IProgress not found. Please update jupyter and ipywidgets. See https://ipywidgets.readthedocs.io/en/stable/user_install.html\n",
      "  from .autonotebook import tqdm as notebook_tqdm\n"
     ]
    }
   ],
   "source": [
    "import os\n",
    "from fairseq2.models.llama import LLaMABuilder,LLaMAConfig,LLaMATokenizer,LLaMAConfig,llama_archs\n",
    "from fairseq2.data import VocabularyInfo\n",
    "from transformers import AutoTokenizer,AutoConfig,AutoModelForCausalLM\n",
    "import torch\n",
    "import json\n",
    "from pathlib import Path\n",
    "from fairseq2.models.sequence import SequenceBatch\n",
    "from fairseq2.nn.padding import PaddingMask,pad_seqs,apply_padding_mask\n",
    "import torch.nn.functional as F\n",
    "import random\n",
    "from fairseq2.tasks.generation import GenerationTask,CodellamaGenerationTask\n",
    "from fairseq2.tasks.generation.generation import generation_tasks"
   ]
  },
  {
   "cell_type": "code",
   "execution_count": 2,
   "metadata": {},
   "outputs": [],
   "source": [
    "task = GenerationTask(task_name=\"codellama_7b_code\",device=\"cuda:2\")"
   ]
  },
  {
   "cell_type": "code",
   "execution_count": 3,
   "metadata": {},
   "outputs": [],
   "source": [
    "task.set_tokenizer(LLaMATokenizer('/data/lz/models/CodeLlama-7b/tokenizer.model'))\n",
    "task.load_state('/data/lz/models/CodeLlama-7b')\n",
    "task.load_dataset('/data/lz/ncc2/src/dataset.json')"
   ]
  },
  {
   "cell_type": "code",
   "execution_count": null,
   "metadata": {},
   "outputs": [],
   "source": [
    "task.run(output_path=\"/data/lz/ncc2/src/result.json\",batch_size=1,max_length=50,temperature=0.5,top_p=0.99)"
   ]
  },
  {
   "cell_type": "code",
   "execution_count": 4,
   "metadata": {},
   "outputs": [
    {
     "name": "stderr",
     "output_type": "stream",
     "text": [
      "/data/lz/ncc2/src/fairseq2/tasks/generation/generation.py:113: UserWarning: To copy construct from a tensor, it is recommended to use sourceTensor.clone().detach() or sourceTensor.clone().detach().requires_grad_(True), rather than torch.tensor(sourceTensor).\n",
      "  sqs_token_ids = torch.tensor(sqs_token_ids,dtype=torch.int64).to(self.device)\n"
     ]
    },
    {
     "data": {
      "text/plain": [
       "'this is a b c\\n  a.'"
      ]
     },
     "execution_count": 4,
     "metadata": {},
     "output_type": "execute_result"
    }
   ],
   "source": [
    "task.generate(['this is','def main'],max_length=10,top_k=20,top_p=0.99,penalty_weight=0.8)[0]"
   ]
  },
  {
   "cell_type": "code",
   "execution_count": null,
   "metadata": {},
   "outputs": [],
   "source": [
    "# 1. generation sample fix (add beam search,etc.)\n",
    "# 2. task register fix √\n",
    "# 3. hf model adapter\n",
    "# 4. code completion task"
   ]
  }
 ],
 "metadata": {
  "kernelspec": {
   "display_name": "rkwv-runner",
   "language": "python",
   "name": "python3"
  },
  "language_info": {
   "codemirror_mode": {
    "name": "ipython",
    "version": 3
   },
   "file_extension": ".py",
   "mimetype": "text/x-python",
   "name": "python",
   "nbconvert_exporter": "python",
   "pygments_lexer": "ipython3",
   "version": "3.9.18"
  }
 },
 "nbformat": 4,
 "nbformat_minor": 2
}
